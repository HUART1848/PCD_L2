{
 "cells": [
  {
   "cell_type": "markdown",
   "id": "b14d63dd-70ab-4df6-ae85-ba298d0a61bc",
   "metadata": {},
   "source": [
    "# Cours PCD – Labo 2 : Détection de données aberrantes (outliers)"
   ]
  },
  {
   "cell_type": "markdown",
   "id": "da3a3cd7",
   "metadata": {},
   "source": [
    "Dans le cadre de ce laboratoire il nous a été demandé de trouver les données atypiques (ou aberrantes) dans plusieurs jeux de données en appliquant la méthode LOF.  Ces jeux de données sont disponibles en ligne et comportent une annotation des données atypiques.  Cette annotation va nous permettre d’évaluer la méthode LOF en calculant son score F1, avec divers paramètres, sur chaque jeu."
   ]
  },
  {
   "cell_type": "code",
   "execution_count": 1,
   "id": "50fc3257",
   "metadata": {
    "tags": []
   },
   "outputs": [],
   "source": [
    "import numpy as np\n",
    "import pandas as pd\n",
    "\n",
    "from os import path\n",
    "from scipy.io import arff\n",
    "\n",
    "from sklearn.neighbors import LocalOutlierFactor"
   ]
  },
  {
   "cell_type": "markdown",
   "id": "56e48a79-144e-4174-a62d-1a26e196403e",
   "metadata": {},
   "source": [
    "## Chemins des données"
   ]
  },
  {
   "cell_type": "code",
   "execution_count": 2,
   "id": "7ee84494-bcf2-40db-9ed4-e45bc99a4b24",
   "metadata": {
    "tags": []
   },
   "outputs": [],
   "source": [
    "data_folder = \"data/literature/\""
   ]
  },
  {
   "cell_type": "code",
   "execution_count": 3,
   "id": "aea2d90a-0004-4ee6-b450-ead2e9e73505",
   "metadata": {
    "tags": []
   },
   "outputs": [],
   "source": [
    "data_files = {\n",
    "    \"aloi\": \"ALOI/ALOI_withoutdupl_norm.arff\",\n",
    "    \"glass\": \"Glass/Glass_withoutdupl_norm.arff\",\n",
    "    \"ionosphere\": \"Ionosphere/Ionosphere_withoutdupl_norm.arff\"\n",
    "}"
   ]
  },
  {
   "cell_type": "markdown",
   "id": "2768d05b-9cd9-41d0-884f-ed9fd73e19c5",
   "metadata": {
    "tags": []
   },
   "source": [
    "## Fonctions"
   ]
  },
  {
   "cell_type": "code",
   "execution_count": 4,
   "id": "6d5cc1c2-9253-49a6-a9cd-eb8db9548c4c",
   "metadata": {
    "tags": []
   },
   "outputs": [],
   "source": [
    "def arff_to_dataframe(path):\n",
    "    return pd.DataFrame(arff.loadarff(path)[0])"
   ]
  },
  {
   "cell_type": "code",
   "execution_count": 5,
   "id": "f88ee250-235d-40bd-be97-4b731b8c904f",
   "metadata": {
    "tags": []
   },
   "outputs": [],
   "source": [
    "def outlier_report(df):\n",
    "    df_outlier_count = df[\"outlier\"].value_counts()\n",
    "\n",
    "    print(f\"Nombre de valeurs:\\t{len(df)}\")\n",
    "    print(f\"Nombre d'inliers:\\t{df_outlier_count[b'no']}\")\n",
    "    print(f\"Nombre d'outliers:\\t{df_outlier_count[b'yes']}\")"
   ]
  },
  {
   "cell_type": "markdown",
   "id": "ec5f2948-d006-4dac-bb2d-fdfee2603fd4",
   "metadata": {},
   "source": [
    "## 1. Détermination du plus petit jeu de données"
   ]
  },
  {
   "cell_type": "markdown",
   "id": "f2266a32-9b71-433e-b751-6eafb8ffa043",
   "metadata": {},
   "source": [
    "À première vue on constate que jeu de données \"Glass\" est le plus petit en termes de taille de fichier :\n",
    "\n",
    "```shell\n",
    "$ du -h\n",
    "19M\t./ALOI\n",
    "20K\t./Glass\n",
    "88K\t./Ionosphere\n",
    "19M\t.\n",
    "```\n",
    "\n",
    "Cela est confirmé par le nombre de lignes dans chaque DataFrame chargé :"
   ]
  },
  {
   "cell_type": "code",
   "execution_count": 6,
   "id": "1f18f959-4176-4cd2-b1b0-39ddc60f7ee8",
   "metadata": {
    "tags": []
   },
   "outputs": [
    {
     "name": "stdout",
     "output_type": "stream",
     "text": [
      "aloi                : 49534\n",
      "glass               : 214\n",
      "ionosphere          : 351\n"
     ]
    }
   ],
   "source": [
    "for (data_name, data_file) in data_files.items():\n",
    "    print(f\"{data_name:20}: {len(arff_to_dataframe(path.join(data_folder, data_file)))}\")"
   ]
  },
  {
   "cell_type": "markdown",
   "id": "99047663-7424-4f29-9f5d-65d9fce20d3d",
   "metadata": {
    "tags": []
   },
   "source": [
    "## 2. Nature des données"
   ]
  },
  {
   "cell_type": "markdown",
   "id": "4eec6151-c144-45bd-9b15-48713ea4b941",
   "metadata": {},
   "source": [
    "### ALOI\n",
    "ALOI est ...."
   ]
  },
  {
   "cell_type": "code",
   "execution_count": 7,
   "id": "961382de-bcad-414d-9dda-46feac3ad5d7",
   "metadata": {
    "tags": []
   },
   "outputs": [
    {
     "name": "stdout",
     "output_type": "stream",
     "text": [
      "Nombre de valeurs:\t49534\n",
      "Nombre d'inliers:\t48026\n",
      "Nombre d'outliers:\t1508\n"
     ]
    }
   ],
   "source": [
    "aloi = arff_to_dataframe(path.join(data_folder, data_files[\"aloi\"]))\n",
    "outlier_report(aloi)"
   ]
  },
  {
   "cell_type": "markdown",
   "id": "42feaa46-3f85-48e8-89eb-200e25bcc650",
   "metadata": {},
   "source": [
    "Cela correspond aux valeurs du site web: 48026 inliers et 1508 outliers"
   ]
  },
  {
   "cell_type": "markdown",
   "id": "3cad5181-048d-4f48-a514-1671b4b7f547",
   "metadata": {},
   "source": [
    "### Glass\n",
    "Glass est ..."
   ]
  },
  {
   "cell_type": "code",
   "execution_count": 8,
   "id": "371fdeeb-5009-4231-9103-a277638c4ff5",
   "metadata": {
    "tags": []
   },
   "outputs": [
    {
     "name": "stdout",
     "output_type": "stream",
     "text": [
      "Nombre de valeurs:\t214\n",
      "Nombre d'inliers:\t205\n",
      "Nombre d'outliers:\t9\n"
     ]
    }
   ],
   "source": [
    "glass = arff_to_dataframe(path.join(data_folder, data_files[\"glass\"]))\n",
    "outlier_report(glass)"
   ]
  },
  {
   "cell_type": "markdown",
   "id": "3549d2dc-660b-40ab-b7aa-2cd6afe036e0",
   "metadata": {},
   "source": [
    "Cela correspond aux valeurs du site web: 205 inliers et 9 outliers"
   ]
  },
  {
   "cell_type": "markdown",
   "id": "507136d3-5011-4889-a58e-dab002face75",
   "metadata": {},
   "source": [
    "### Ionosphere\n",
    "Ionosphere est ..."
   ]
  },
  {
   "cell_type": "code",
   "execution_count": 9,
   "id": "89f44e25-9760-40d3-876c-6dc58bae000a",
   "metadata": {
    "tags": []
   },
   "outputs": [
    {
     "name": "stdout",
     "output_type": "stream",
     "text": [
      "Nombre de valeurs:\t351\n",
      "Nombre d'inliers:\t225\n",
      "Nombre d'outliers:\t126\n"
     ]
    }
   ],
   "source": [
    "ionosphere = arff_to_dataframe(path.join(data_folder, data_files[\"ionosphere\"]))\n",
    "outlier_report(ionosphere)"
   ]
  },
  {
   "cell_type": "markdown",
   "id": "23c5b15f-79f3-4062-92c5-610cfefd1704",
   "metadata": {
    "tags": []
   },
   "source": [
    "Cela correspond aux valeurs du site web: 225 inliers et 126 outliers"
   ]
  },
  {
   "cell_type": "markdown",
   "id": "fc966f57-d9ce-4ebf-a1f8-93a8b89379c6",
   "metadata": {},
   "source": [
    "## 3. Détection avec Local Outlier Factor (LOF)"
   ]
  }
 ],
 "metadata": {
  "kernelspec": {
   "display_name": "Python 3 (ipykernel)",
   "language": "python",
   "name": "python3"
  },
  "language_info": {
   "codemirror_mode": {
    "name": "ipython",
    "version": 3
   },
   "file_extension": ".py",
   "mimetype": "text/x-python",
   "name": "python",
   "nbconvert_exporter": "python",
   "pygments_lexer": "ipython3",
   "version": "3.10.9"
  }
 },
 "nbformat": 4,
 "nbformat_minor": 5
}
