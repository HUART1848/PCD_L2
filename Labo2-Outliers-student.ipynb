{
 "cells": [
  {
   "cell_type": "markdown",
   "id": "b14d63dd-70ab-4df6-ae85-ba298d0a61bc",
   "metadata": {},
   "source": [
    "# Cours PCD – Labo 2 : Détection de données aberrantes (outliers)"
   ]
  },
  {
   "cell_type": "markdown",
   "id": "da3a3cd7",
   "metadata": {},
   "source": [
    "Dans le cadre de ce laboratoire il nous a été demandé de trouver les données atypiques (ou aberrantes) dans plusieurs jeux de données en appliquant la méthode LOF.  Ces jeux de données sont disponibles en ligne et comportent une annotation des données atypiques.  Cette annotation va nous permettre d’évaluer la méthode LOF en calculant son score F1, avec divers paramètres, sur chaque jeu."
   ]
  },
  {
   "cell_type": "code",
   "execution_count": 144,
   "id": "50fc3257",
   "metadata": {
    "tags": []
   },
   "outputs": [],
   "source": [
    "import matplotlib.pyplot as plt\n",
    "import numpy as np\n",
    "import pandas as pd\n",
    "\n",
    "from os import path\n",
    "from scipy.io import arff\n",
    "\n",
    "from sklearn.neighbors import LocalOutlierFactor"
   ]
  },
  {
   "cell_type": "markdown",
   "id": "56e48a79-144e-4174-a62d-1a26e196403e",
   "metadata": {},
   "source": [
    "## Chemins des données"
   ]
  },
  {
   "cell_type": "code",
   "execution_count": 145,
   "id": "7ee84494-bcf2-40db-9ed4-e45bc99a4b24",
   "metadata": {
    "tags": []
   },
   "outputs": [],
   "source": [
    "data_folder = \"data/literature/\""
   ]
  },
  {
   "cell_type": "code",
   "execution_count": 146,
   "id": "aea2d90a-0004-4ee6-b450-ead2e9e73505",
   "metadata": {
    "tags": []
   },
   "outputs": [],
   "source": [
    "data_files = {\n",
    "    \"aloi\": \"ALOI/ALOI_withoutdupl_norm.arff\",\n",
    "    \"glass\": \"Glass/Glass_withoutdupl_norm.arff\",\n",
    "    \"ionosphere\": \"Ionosphere/Ionosphere_withoutdupl_norm.arff\"\n",
    "}"
   ]
  },
  {
   "cell_type": "markdown",
   "id": "2768d05b-9cd9-41d0-884f-ed9fd73e19c5",
   "metadata": {
    "tags": []
   },
   "source": [
    "## Fonctions"
   ]
  },
  {
   "cell_type": "code",
   "execution_count": 161,
   "id": "6d5cc1c2-9253-49a6-a9cd-eb8db9548c4c",
   "metadata": {
    "tags": []
   },
   "outputs": [],
   "source": [
    "def arff_to_dataframe(data_path):\n",
    "    return pd.DataFrame(arff.loadarff(data_path)[0])"
   ]
  },
  {
   "cell_type": "code",
   "execution_count": 160,
   "id": "f88ee250-235d-40bd-be97-4b731b8c904f",
   "metadata": {
    "tags": []
   },
   "outputs": [],
   "source": [
    "def outlier_report(df):\n",
    "    df_outlier_counts = df[\"outlier\"].value_counts()\n",
    "    n_inliers  = df_outlier_counts[b\"no\"]\n",
    "    n_outliers = df_outlier_counts[b\"yes\"]\n",
    "    \n",
    "    print(f\"Nombre de valeurs :\\t{len(df)}\")\n",
    "    print(f\"Nombre d'inliers  :\\t{n_inliers}\")\n",
    "    print(f\"Nombre d'outliers :\\t{n_outliers}\")\n",
    "    \n",
    "    return n_outliers / len(df)"
   ]
  },
  {
   "cell_type": "markdown",
   "id": "ec5f2948-d006-4dac-bb2d-fdfee2603fd4",
   "metadata": {},
   "source": [
    "## 1. Détermination du plus petit jeu de données"
   ]
  },
  {
   "cell_type": "markdown",
   "id": "f2266a32-9b71-433e-b751-6eafb8ffa043",
   "metadata": {},
   "source": [
    "À première vue on constate que jeu de données \"Glass\" est le plus petit en termes de taille de fichier :\n",
    "\n",
    "```shell\n",
    "$ du -h\n",
    "19M\t./ALOI\n",
    "20K\t./Glass\n",
    "88K\t./Ionosphere\n",
    "19M\t.\n",
    "```\n",
    "\n",
    "Cela est confirmé par le nombre de lignes dans chaque DataFrame chargé :"
   ]
  },
  {
   "cell_type": "code",
   "execution_count": 149,
   "id": "1f18f959-4176-4cd2-b1b0-39ddc60f7ee8",
   "metadata": {
    "tags": []
   },
   "outputs": [
    {
     "name": "stdout",
     "output_type": "stream",
     "text": [
      "aloi                : 49534\n",
      "glass               : 214\n",
      "ionosphere          : 351\n"
     ]
    }
   ],
   "source": [
    "for (data_name, data_file) in data_files.items():\n",
    "    print(f\"{data_name:20}: {len(arff_to_dataframe(path.join(data_folder, data_file)))}\")"
   ]
  },
  {
   "cell_type": "markdown",
   "id": "99047663-7424-4f29-9f5d-65d9fce20d3d",
   "metadata": {
    "tags": []
   },
   "source": [
    "## 2. Nature des données"
   ]
  },
  {
   "cell_type": "markdown",
   "id": "4eec6151-c144-45bd-9b15-48713ea4b941",
   "metadata": {},
   "source": [
    "### ALOI\n",
    "ALOI est ...."
   ]
  },
  {
   "cell_type": "code",
   "execution_count": 150,
   "id": "961382de-bcad-414d-9dda-46feac3ad5d7",
   "metadata": {
    "tags": []
   },
   "outputs": [
    {
     "name": "stdout",
     "output_type": "stream",
     "text": [
      "Nombre de valeurs :\t49534\n",
      "Nombre d'inliers  :\t48026\n",
      "Nombre d'outliers :\t1508\n"
     ]
    },
    {
     "data": {
      "text/html": [
       "<div>\n",
       "<style scoped>\n",
       "    .dataframe tbody tr th:only-of-type {\n",
       "        vertical-align: middle;\n",
       "    }\n",
       "\n",
       "    .dataframe tbody tr th {\n",
       "        vertical-align: top;\n",
       "    }\n",
       "\n",
       "    .dataframe thead th {\n",
       "        text-align: right;\n",
       "    }\n",
       "</style>\n",
       "<table border=\"1\" class=\"dataframe\">\n",
       "  <thead>\n",
       "    <tr style=\"text-align: right;\">\n",
       "      <th></th>\n",
       "      <th>att1</th>\n",
       "      <th>att2</th>\n",
       "      <th>att3</th>\n",
       "      <th>att4</th>\n",
       "      <th>att5</th>\n",
       "      <th>att6</th>\n",
       "      <th>att7</th>\n",
       "      <th>att8</th>\n",
       "      <th>att9</th>\n",
       "      <th>att10</th>\n",
       "      <th>...</th>\n",
       "      <th>att20</th>\n",
       "      <th>att21</th>\n",
       "      <th>att22</th>\n",
       "      <th>att23</th>\n",
       "      <th>att24</th>\n",
       "      <th>att25</th>\n",
       "      <th>att26</th>\n",
       "      <th>att27</th>\n",
       "      <th>outlier</th>\n",
       "      <th>id</th>\n",
       "    </tr>\n",
       "  </thead>\n",
       "  <tbody>\n",
       "    <tr>\n",
       "      <th>0</th>\n",
       "      <td>0.784999</td>\n",
       "      <td>0.000018</td>\n",
       "      <td>0.000000</td>\n",
       "      <td>0.000093</td>\n",
       "      <td>0.000000</td>\n",
       "      <td>0.000000</td>\n",
       "      <td>0.0</td>\n",
       "      <td>0.000000</td>\n",
       "      <td>0.000000</td>\n",
       "      <td>0.139811</td>\n",
       "      <td>...</td>\n",
       "      <td>0.001189</td>\n",
       "      <td>0.0</td>\n",
       "      <td>0.115728</td>\n",
       "      <td>0.023449</td>\n",
       "      <td>0.000200</td>\n",
       "      <td>0.000220</td>\n",
       "      <td>0.034952</td>\n",
       "      <td>0.046914</td>\n",
       "      <td>b'yes'</td>\n",
       "      <td>1.0</td>\n",
       "    </tr>\n",
       "    <tr>\n",
       "      <th>1</th>\n",
       "      <td>0.958088</td>\n",
       "      <td>0.000000</td>\n",
       "      <td>0.000000</td>\n",
       "      <td>0.001671</td>\n",
       "      <td>0.000000</td>\n",
       "      <td>0.000000</td>\n",
       "      <td>0.0</td>\n",
       "      <td>0.000000</td>\n",
       "      <td>0.000000</td>\n",
       "      <td>0.019556</td>\n",
       "      <td>...</td>\n",
       "      <td>0.000000</td>\n",
       "      <td>0.0</td>\n",
       "      <td>0.022035</td>\n",
       "      <td>0.007516</td>\n",
       "      <td>0.000000</td>\n",
       "      <td>0.000000</td>\n",
       "      <td>0.001033</td>\n",
       "      <td>0.000000</td>\n",
       "      <td>b'yes'</td>\n",
       "      <td>2.0</td>\n",
       "    </tr>\n",
       "    <tr>\n",
       "      <th>2</th>\n",
       "      <td>0.938768</td>\n",
       "      <td>0.000000</td>\n",
       "      <td>0.000000</td>\n",
       "      <td>0.005146</td>\n",
       "      <td>0.000000</td>\n",
       "      <td>0.000000</td>\n",
       "      <td>0.0</td>\n",
       "      <td>0.000000</td>\n",
       "      <td>0.000000</td>\n",
       "      <td>0.018451</td>\n",
       "      <td>...</td>\n",
       "      <td>0.000000</td>\n",
       "      <td>0.0</td>\n",
       "      <td>0.035542</td>\n",
       "      <td>0.011982</td>\n",
       "      <td>0.000000</td>\n",
       "      <td>0.001595</td>\n",
       "      <td>0.019520</td>\n",
       "      <td>0.000000</td>\n",
       "      <td>b'yes'</td>\n",
       "      <td>3.0</td>\n",
       "    </tr>\n",
       "    <tr>\n",
       "      <th>3</th>\n",
       "      <td>0.954775</td>\n",
       "      <td>0.000000</td>\n",
       "      <td>0.000000</td>\n",
       "      <td>0.001427</td>\n",
       "      <td>0.000000</td>\n",
       "      <td>0.000000</td>\n",
       "      <td>0.0</td>\n",
       "      <td>0.000000</td>\n",
       "      <td>0.000000</td>\n",
       "      <td>0.024944</td>\n",
       "      <td>...</td>\n",
       "      <td>0.000000</td>\n",
       "      <td>0.0</td>\n",
       "      <td>0.019941</td>\n",
       "      <td>0.000805</td>\n",
       "      <td>0.000000</td>\n",
       "      <td>0.000000</td>\n",
       "      <td>0.000035</td>\n",
       "      <td>0.000000</td>\n",
       "      <td>b'yes'</td>\n",
       "      <td>4.0</td>\n",
       "    </tr>\n",
       "    <tr>\n",
       "      <th>4</th>\n",
       "      <td>0.933601</td>\n",
       "      <td>0.000000</td>\n",
       "      <td>0.000000</td>\n",
       "      <td>0.001682</td>\n",
       "      <td>0.000000</td>\n",
       "      <td>0.000000</td>\n",
       "      <td>0.0</td>\n",
       "      <td>0.000000</td>\n",
       "      <td>0.000000</td>\n",
       "      <td>0.037002</td>\n",
       "      <td>...</td>\n",
       "      <td>0.000000</td>\n",
       "      <td>0.0</td>\n",
       "      <td>0.046759</td>\n",
       "      <td>0.002663</td>\n",
       "      <td>0.000000</td>\n",
       "      <td>0.000339</td>\n",
       "      <td>0.001359</td>\n",
       "      <td>0.000000</td>\n",
       "      <td>b'yes'</td>\n",
       "      <td>5.0</td>\n",
       "    </tr>\n",
       "    <tr>\n",
       "      <th>...</th>\n",
       "      <td>...</td>\n",
       "      <td>...</td>\n",
       "      <td>...</td>\n",
       "      <td>...</td>\n",
       "      <td>...</td>\n",
       "      <td>...</td>\n",
       "      <td>...</td>\n",
       "      <td>...</td>\n",
       "      <td>...</td>\n",
       "      <td>...</td>\n",
       "      <td>...</td>\n",
       "      <td>...</td>\n",
       "      <td>...</td>\n",
       "      <td>...</td>\n",
       "      <td>...</td>\n",
       "      <td>...</td>\n",
       "      <td>...</td>\n",
       "      <td>...</td>\n",
       "      <td>...</td>\n",
       "      <td>...</td>\n",
       "      <td>...</td>\n",
       "    </tr>\n",
       "    <tr>\n",
       "      <th>49529</th>\n",
       "      <td>0.945860</td>\n",
       "      <td>0.001296</td>\n",
       "      <td>0.000000</td>\n",
       "      <td>0.001334</td>\n",
       "      <td>0.001894</td>\n",
       "      <td>0.000021</td>\n",
       "      <td>0.0</td>\n",
       "      <td>0.000000</td>\n",
       "      <td>0.000000</td>\n",
       "      <td>0.002072</td>\n",
       "      <td>...</td>\n",
       "      <td>0.000000</td>\n",
       "      <td>0.0</td>\n",
       "      <td>0.000195</td>\n",
       "      <td>0.000805</td>\n",
       "      <td>0.000040</td>\n",
       "      <td>0.000174</td>\n",
       "      <td>0.024223</td>\n",
       "      <td>0.013462</td>\n",
       "      <td>b'no'</td>\n",
       "      <td>49996.0</td>\n",
       "    </tr>\n",
       "    <tr>\n",
       "      <th>49530</th>\n",
       "      <td>0.956965</td>\n",
       "      <td>0.001921</td>\n",
       "      <td>0.000000</td>\n",
       "      <td>0.001856</td>\n",
       "      <td>0.002696</td>\n",
       "      <td>0.000064</td>\n",
       "      <td>0.0</td>\n",
       "      <td>0.000000</td>\n",
       "      <td>0.000000</td>\n",
       "      <td>0.002280</td>\n",
       "      <td>...</td>\n",
       "      <td>0.000000</td>\n",
       "      <td>0.0</td>\n",
       "      <td>0.000174</td>\n",
       "      <td>0.000387</td>\n",
       "      <td>0.000000</td>\n",
       "      <td>0.000193</td>\n",
       "      <td>0.024315</td>\n",
       "      <td>0.005990</td>\n",
       "      <td>b'no'</td>\n",
       "      <td>49997.0</td>\n",
       "    </tr>\n",
       "    <tr>\n",
       "      <th>49531</th>\n",
       "      <td>0.966346</td>\n",
       "      <td>0.002729</td>\n",
       "      <td>0.000000</td>\n",
       "      <td>0.002170</td>\n",
       "      <td>0.002857</td>\n",
       "      <td>0.000107</td>\n",
       "      <td>0.0</td>\n",
       "      <td>0.000083</td>\n",
       "      <td>0.000000</td>\n",
       "      <td>0.001382</td>\n",
       "      <td>...</td>\n",
       "      <td>0.000000</td>\n",
       "      <td>0.0</td>\n",
       "      <td>0.000246</td>\n",
       "      <td>0.000709</td>\n",
       "      <td>0.000000</td>\n",
       "      <td>0.000211</td>\n",
       "      <td>0.018509</td>\n",
       "      <td>0.006266</td>\n",
       "      <td>b'no'</td>\n",
       "      <td>49998.0</td>\n",
       "    </tr>\n",
       "    <tr>\n",
       "      <th>49532</th>\n",
       "      <td>0.968409</td>\n",
       "      <td>0.003372</td>\n",
       "      <td>0.000026</td>\n",
       "      <td>0.000731</td>\n",
       "      <td>0.002616</td>\n",
       "      <td>0.000384</td>\n",
       "      <td>0.0</td>\n",
       "      <td>0.000083</td>\n",
       "      <td>0.000078</td>\n",
       "      <td>0.000986</td>\n",
       "      <td>...</td>\n",
       "      <td>0.000000</td>\n",
       "      <td>0.0</td>\n",
       "      <td>0.000482</td>\n",
       "      <td>0.000752</td>\n",
       "      <td>0.000521</td>\n",
       "      <td>0.000266</td>\n",
       "      <td>0.017941</td>\n",
       "      <td>0.007500</td>\n",
       "      <td>b'no'</td>\n",
       "      <td>49999.0</td>\n",
       "    </tr>\n",
       "    <tr>\n",
       "      <th>49533</th>\n",
       "      <td>0.969636</td>\n",
       "      <td>0.003602</td>\n",
       "      <td>0.000026</td>\n",
       "      <td>0.000342</td>\n",
       "      <td>0.002632</td>\n",
       "      <td>0.000405</td>\n",
       "      <td>0.0</td>\n",
       "      <td>0.000497</td>\n",
       "      <td>0.000039</td>\n",
       "      <td>0.001237</td>\n",
       "      <td>...</td>\n",
       "      <td>0.000000</td>\n",
       "      <td>0.0</td>\n",
       "      <td>0.000472</td>\n",
       "      <td>0.000719</td>\n",
       "      <td>0.000401</td>\n",
       "      <td>0.000339</td>\n",
       "      <td>0.017673</td>\n",
       "      <td>0.008092</td>\n",
       "      <td>b'no'</td>\n",
       "      <td>50000.0</td>\n",
       "    </tr>\n",
       "  </tbody>\n",
       "</table>\n",
       "<p>49534 rows × 29 columns</p>\n",
       "</div>"
      ],
      "text/plain": [
       "           att1      att2      att3      att4      att5      att6  att7  \\\n",
       "0      0.784999  0.000018  0.000000  0.000093  0.000000  0.000000   0.0   \n",
       "1      0.958088  0.000000  0.000000  0.001671  0.000000  0.000000   0.0   \n",
       "2      0.938768  0.000000  0.000000  0.005146  0.000000  0.000000   0.0   \n",
       "3      0.954775  0.000000  0.000000  0.001427  0.000000  0.000000   0.0   \n",
       "4      0.933601  0.000000  0.000000  0.001682  0.000000  0.000000   0.0   \n",
       "...         ...       ...       ...       ...       ...       ...   ...   \n",
       "49529  0.945860  0.001296  0.000000  0.001334  0.001894  0.000021   0.0   \n",
       "49530  0.956965  0.001921  0.000000  0.001856  0.002696  0.000064   0.0   \n",
       "49531  0.966346  0.002729  0.000000  0.002170  0.002857  0.000107   0.0   \n",
       "49532  0.968409  0.003372  0.000026  0.000731  0.002616  0.000384   0.0   \n",
       "49533  0.969636  0.003602  0.000026  0.000342  0.002632  0.000405   0.0   \n",
       "\n",
       "           att8      att9     att10  ...     att20  att21     att22     att23  \\\n",
       "0      0.000000  0.000000  0.139811  ...  0.001189    0.0  0.115728  0.023449   \n",
       "1      0.000000  0.000000  0.019556  ...  0.000000    0.0  0.022035  0.007516   \n",
       "2      0.000000  0.000000  0.018451  ...  0.000000    0.0  0.035542  0.011982   \n",
       "3      0.000000  0.000000  0.024944  ...  0.000000    0.0  0.019941  0.000805   \n",
       "4      0.000000  0.000000  0.037002  ...  0.000000    0.0  0.046759  0.002663   \n",
       "...         ...       ...       ...  ...       ...    ...       ...       ...   \n",
       "49529  0.000000  0.000000  0.002072  ...  0.000000    0.0  0.000195  0.000805   \n",
       "49530  0.000000  0.000000  0.002280  ...  0.000000    0.0  0.000174  0.000387   \n",
       "49531  0.000083  0.000000  0.001382  ...  0.000000    0.0  0.000246  0.000709   \n",
       "49532  0.000083  0.000078  0.000986  ...  0.000000    0.0  0.000482  0.000752   \n",
       "49533  0.000497  0.000039  0.001237  ...  0.000000    0.0  0.000472  0.000719   \n",
       "\n",
       "          att24     att25     att26     att27  outlier       id  \n",
       "0      0.000200  0.000220  0.034952  0.046914   b'yes'      1.0  \n",
       "1      0.000000  0.000000  0.001033  0.000000   b'yes'      2.0  \n",
       "2      0.000000  0.001595  0.019520  0.000000   b'yes'      3.0  \n",
       "3      0.000000  0.000000  0.000035  0.000000   b'yes'      4.0  \n",
       "4      0.000000  0.000339  0.001359  0.000000   b'yes'      5.0  \n",
       "...         ...       ...       ...       ...      ...      ...  \n",
       "49529  0.000040  0.000174  0.024223  0.013462    b'no'  49996.0  \n",
       "49530  0.000000  0.000193  0.024315  0.005990    b'no'  49997.0  \n",
       "49531  0.000000  0.000211  0.018509  0.006266    b'no'  49998.0  \n",
       "49532  0.000521  0.000266  0.017941  0.007500    b'no'  49999.0  \n",
       "49533  0.000401  0.000339  0.017673  0.008092    b'no'  50000.0  \n",
       "\n",
       "[49534 rows x 29 columns]"
      ]
     },
     "execution_count": 150,
     "metadata": {},
     "output_type": "execute_result"
    }
   ],
   "source": [
    "aloi = arff_to_dataframe(path.join(data_folder, data_files[\"aloi\"]))\n",
    "outlier_report(aloi)\n",
    "aloi"
   ]
  },
  {
   "cell_type": "markdown",
   "id": "42feaa46-3f85-48e8-89eb-200e25bcc650",
   "metadata": {},
   "source": [
    "Cela correspond aux valeurs du site web: 48026 inliers et 1508 outliers"
   ]
  },
  {
   "cell_type": "markdown",
   "id": "3cad5181-048d-4f48-a514-1671b4b7f547",
   "metadata": {},
   "source": [
    "### Glass\n",
    "Glass est un ensemble de données médico-légales décrivant les types de verre. Cette version est basée sur une publication de Keller et al. (HiCS, [1]). Les auteurs utilisent la classe 6 (minoritaire) comme outlier et toutes les autres classes comme inliers. Malheureusement, ils ne détaillent pas les attributs qui ont été utilisés. L'ensemble de données d'origine se compose de 9 attributs, ici seuls 7 attributs sont présents. L'ensemble de données contient 214 instances, 9 valeurs aberrantes (21,4 %) et 205 inliers (95,79 %). Cet ensemble de données ne contient qu'un seul doublon, donc une version sans doublon n'est pas créer."
   ]
  },
  {
   "cell_type": "code",
   "execution_count": 151,
   "id": "371fdeeb-5009-4231-9103-a277638c4ff5",
   "metadata": {
    "tags": []
   },
   "outputs": [
    {
     "name": "stdout",
     "output_type": "stream",
     "text": [
      "Nombre de valeurs :\t214\n",
      "Nombre d'inliers  :\t205\n",
      "Nombre d'outliers :\t9\n"
     ]
    },
    {
     "data": {
      "text/html": [
       "<div>\n",
       "<style scoped>\n",
       "    .dataframe tbody tr th:only-of-type {\n",
       "        vertical-align: middle;\n",
       "    }\n",
       "\n",
       "    .dataframe tbody tr th {\n",
       "        vertical-align: top;\n",
       "    }\n",
       "\n",
       "    .dataframe thead th {\n",
       "        text-align: right;\n",
       "    }\n",
       "</style>\n",
       "<table border=\"1\" class=\"dataframe\">\n",
       "  <thead>\n",
       "    <tr style=\"text-align: right;\">\n",
       "      <th></th>\n",
       "      <th>var_0000</th>\n",
       "      <th>var_0001</th>\n",
       "      <th>var_0002</th>\n",
       "      <th>var_0003</th>\n",
       "      <th>var_0004</th>\n",
       "      <th>var_0005</th>\n",
       "      <th>var_0006</th>\n",
       "      <th>id</th>\n",
       "      <th>outlier</th>\n",
       "    </tr>\n",
       "  </thead>\n",
       "  <tbody>\n",
       "    <tr>\n",
       "      <th>0</th>\n",
       "      <td>0.467651</td>\n",
       "      <td>0.321584</td>\n",
       "      <td>0.768880</td>\n",
       "      <td>0.246630</td>\n",
       "      <td>0.838799</td>\n",
       "      <td>0.099737</td>\n",
       "      <td>0.298340</td>\n",
       "      <td>1.0</td>\n",
       "      <td>b'no'</td>\n",
       "    </tr>\n",
       "    <tr>\n",
       "      <th>1</th>\n",
       "      <td>0.496412</td>\n",
       "      <td>0.220491</td>\n",
       "      <td>0.776032</td>\n",
       "      <td>0.316598</td>\n",
       "      <td>0.919973</td>\n",
       "      <td>0.089145</td>\n",
       "      <td>0.279479</td>\n",
       "      <td>2.0</td>\n",
       "      <td>b'no'</td>\n",
       "    </tr>\n",
       "    <tr>\n",
       "      <th>2</th>\n",
       "      <td>0.519133</td>\n",
       "      <td>0.404464</td>\n",
       "      <td>0.768012</td>\n",
       "      <td>0.334978</td>\n",
       "      <td>0.801622</td>\n",
       "      <td>0.092369</td>\n",
       "      <td>0.271238</td>\n",
       "      <td>3.0</td>\n",
       "      <td>b'no'</td>\n",
       "    </tr>\n",
       "    <tr>\n",
       "      <th>3</th>\n",
       "      <td>0.199650</td>\n",
       "      <td>0.547373</td>\n",
       "      <td>0.374284</td>\n",
       "      <td>0.362223</td>\n",
       "      <td>0.817017</td>\n",
       "      <td>0.000000</td>\n",
       "      <td>0.177913</td>\n",
       "      <td>4.0</td>\n",
       "      <td>b'yes'</td>\n",
       "    </tr>\n",
       "    <tr>\n",
       "      <th>4</th>\n",
       "      <td>0.847261</td>\n",
       "      <td>0.286361</td>\n",
       "      <td>0.000000</td>\n",
       "      <td>0.217792</td>\n",
       "      <td>0.000000</td>\n",
       "      <td>0.019135</td>\n",
       "      <td>1.000000</td>\n",
       "      <td>5.0</td>\n",
       "      <td>b'no'</td>\n",
       "    </tr>\n",
       "    <tr>\n",
       "      <th>...</th>\n",
       "      <td>...</td>\n",
       "      <td>...</td>\n",
       "      <td>...</td>\n",
       "      <td>...</td>\n",
       "      <td>...</td>\n",
       "      <td>...</td>\n",
       "      <td>...</td>\n",
       "      <td>...</td>\n",
       "      <td>...</td>\n",
       "    </tr>\n",
       "    <tr>\n",
       "      <th>209</th>\n",
       "      <td>0.495555</td>\n",
       "      <td>0.438735</td>\n",
       "      <td>0.749682</td>\n",
       "      <td>0.277775</td>\n",
       "      <td>0.791251</td>\n",
       "      <td>0.092286</td>\n",
       "      <td>0.260617</td>\n",
       "      <td>210.0</td>\n",
       "      <td>b'no'</td>\n",
       "    </tr>\n",
       "    <tr>\n",
       "      <th>210</th>\n",
       "      <td>0.515273</td>\n",
       "      <td>0.346053</td>\n",
       "      <td>0.777602</td>\n",
       "      <td>0.548135</td>\n",
       "      <td>0.863624</td>\n",
       "      <td>0.108131</td>\n",
       "      <td>0.230353</td>\n",
       "      <td>211.0</td>\n",
       "      <td>b'no'</td>\n",
       "    </tr>\n",
       "    <tr>\n",
       "      <th>211</th>\n",
       "      <td>0.459787</td>\n",
       "      <td>0.517479</td>\n",
       "      <td>0.773646</td>\n",
       "      <td>0.285545</td>\n",
       "      <td>0.761141</td>\n",
       "      <td>0.057688</td>\n",
       "      <td>0.223982</td>\n",
       "      <td>212.0</td>\n",
       "      <td>b'no'</td>\n",
       "    </tr>\n",
       "    <tr>\n",
       "      <th>212</th>\n",
       "      <td>0.442959</td>\n",
       "      <td>0.297568</td>\n",
       "      <td>0.631711</td>\n",
       "      <td>0.421653</td>\n",
       "      <td>0.884864</td>\n",
       "      <td>0.113589</td>\n",
       "      <td>0.276465</td>\n",
       "      <td>213.0</td>\n",
       "      <td>b'no'</td>\n",
       "    </tr>\n",
       "    <tr>\n",
       "      <th>213</th>\n",
       "      <td>0.485919</td>\n",
       "      <td>0.548648</td>\n",
       "      <td>0.481699</td>\n",
       "      <td>0.408150</td>\n",
       "      <td>0.656716</td>\n",
       "      <td>0.000000</td>\n",
       "      <td>0.348888</td>\n",
       "      <td>214.0</td>\n",
       "      <td>b'yes'</td>\n",
       "    </tr>\n",
       "  </tbody>\n",
       "</table>\n",
       "<p>214 rows × 9 columns</p>\n",
       "</div>"
      ],
      "text/plain": [
       "     var_0000  var_0001  var_0002  var_0003  var_0004  var_0005  var_0006  \\\n",
       "0    0.467651  0.321584  0.768880  0.246630  0.838799  0.099737  0.298340   \n",
       "1    0.496412  0.220491  0.776032  0.316598  0.919973  0.089145  0.279479   \n",
       "2    0.519133  0.404464  0.768012  0.334978  0.801622  0.092369  0.271238   \n",
       "3    0.199650  0.547373  0.374284  0.362223  0.817017  0.000000  0.177913   \n",
       "4    0.847261  0.286361  0.000000  0.217792  0.000000  0.019135  1.000000   \n",
       "..        ...       ...       ...       ...       ...       ...       ...   \n",
       "209  0.495555  0.438735  0.749682  0.277775  0.791251  0.092286  0.260617   \n",
       "210  0.515273  0.346053  0.777602  0.548135  0.863624  0.108131  0.230353   \n",
       "211  0.459787  0.517479  0.773646  0.285545  0.761141  0.057688  0.223982   \n",
       "212  0.442959  0.297568  0.631711  0.421653  0.884864  0.113589  0.276465   \n",
       "213  0.485919  0.548648  0.481699  0.408150  0.656716  0.000000  0.348888   \n",
       "\n",
       "        id outlier  \n",
       "0      1.0   b'no'  \n",
       "1      2.0   b'no'  \n",
       "2      3.0   b'no'  \n",
       "3      4.0  b'yes'  \n",
       "4      5.0   b'no'  \n",
       "..     ...     ...  \n",
       "209  210.0   b'no'  \n",
       "210  211.0   b'no'  \n",
       "211  212.0   b'no'  \n",
       "212  213.0   b'no'  \n",
       "213  214.0  b'yes'  \n",
       "\n",
       "[214 rows x 9 columns]"
      ]
     },
     "execution_count": 151,
     "metadata": {},
     "output_type": "execute_result"
    }
   ],
   "source": [
    "glass = arff_to_dataframe(path.join(data_folder, data_files[\"glass\"]))\n",
    "outlier_report(glass)\n",
    "glass"
   ]
  },
  {
   "cell_type": "markdown",
   "id": "3549d2dc-660b-40ab-b7aa-2cd6afe036e0",
   "metadata": {},
   "source": [
    "Cela correspond aux valeurs du site web: 205 inliers et 9 outliers"
   ]
  },
  {
   "cell_type": "markdown",
   "id": "507136d3-5011-4889-a58e-dab002face75",
   "metadata": {},
   "source": [
    "### Ionosphere\n",
    "\n",
    "Cet ensemble de données différencie les bons radars qui montrent des preuves d'une sorte de structure dans l'ionosphère, et les mauvais radars pour lesquels les signaux traversent le radar. Dans cette version (HiCS, [1]), les auteurs utilisent la classe b (minoritaire) comme outliers et la classe g comme inliers. Ils ont supprimé les attributs 1 et 2 de leur jeu de données. Par conséquent, après le prétraitement, cet ensemble de données a 32 attributs numériques et 351 instances, 126 outliers (35,9 %) et 225 inliers (64,1 %). Cet ensemble de données ne contient qu'un seul doublon, donc une version sans doublon n'est pas créer."
   ]
  },
  {
   "cell_type": "code",
   "execution_count": 152,
   "id": "89f44e25-9760-40d3-876c-6dc58bae000a",
   "metadata": {
    "tags": []
   },
   "outputs": [
    {
     "name": "stdout",
     "output_type": "stream",
     "text": [
      "Nombre de valeurs :\t351\n",
      "Nombre d'inliers  :\t225\n",
      "Nombre d'outliers :\t126\n"
     ]
    },
    {
     "data": {
      "text/plain": [
       "0.358974358974359"
      ]
     },
     "execution_count": 152,
     "metadata": {},
     "output_type": "execute_result"
    }
   ],
   "source": [
    "ionosphere = arff_to_dataframe(path.join(data_folder, data_files[\"ionosphere\"]))\n",
    "outlier_report(ionosphere)"
   ]
  },
  {
   "cell_type": "markdown",
   "id": "23c5b15f-79f3-4062-92c5-610cfefd1704",
   "metadata": {
    "tags": []
   },
   "source": [
    "Cela correspond aux valeurs du site web: 225 inliers et 126 outliers"
   ]
  },
  {
   "cell_type": "markdown",
   "id": "fc966f57-d9ce-4ebf-a1f8-93a8b89379c6",
   "metadata": {},
   "source": [
    "## 3. Détection avec Local Outlier Factor (LOF)"
   ]
  },
  {
   "cell_type": "code",
   "execution_count": 153,
   "id": "9ee053fd",
   "metadata": {
    "tags": []
   },
   "outputs": [],
   "source": [
    "sample = glass[[\"var_0000\", \"var_0001\"]]"
   ]
  },
  {
   "cell_type": "code",
   "execution_count": 154,
   "id": "4a63e417-5283-43e8-a24a-824e5ed7f7ab",
   "metadata": {
    "tags": []
   },
   "outputs": [],
   "source": [
    "clf = LocalOutlierFactor()"
   ]
  },
  {
   "cell_type": "code",
   "execution_count": 155,
   "id": "919dd224-bcdd-4d60-953c-e0580a3562e5",
   "metadata": {
    "tags": []
   },
   "outputs": [],
   "source": [
    "pred = clf.fit_predict(sample)\n",
    "scores = clf.negative_outlier_factor_"
   ]
  },
  {
   "cell_type": "code",
   "execution_count": 156,
   "id": "ce8ce62a-c43b-4927-82f9-91054913c6b1",
   "metadata": {
    "tags": []
   },
   "outputs": [],
   "source": [
    "in_sample  = sample.loc[np.where(pred ==  1)]\n",
    "out_sample = sample.loc[np.where(pred == -1)]"
   ]
  },
  {
   "cell_type": "code",
   "execution_count": 157,
   "id": "ff65b856-009f-4bf3-8c87-a3adcd163d22",
   "metadata": {
    "tags": []
   },
   "outputs": [
    {
     "data": {
      "text/plain": [
       "<matplotlib.collections.PathCollection at 0x1de91963310>"
      ]
     },
     "execution_count": 157,
     "metadata": {},
     "output_type": "execute_result"
    },
    {
     "data": {
      "image/png": "[encoded data removed]",
      "text/plain": [
       "<Figure size 640x480 with 1 Axes>"
      ]
     },
     "metadata": {},
     "output_type": "display_data"
    }
   ],
   "source": [
    "plt.title(\"lof\")\n",
    "plt.scatter(in_sample[\"var_0000\"], in_sample[\"var_0001\"], color=\"tab:orange\", s=3.0, label=\"inlier points\")\n",
    "plt.scatter(out_sample[\"var_0000\"], out_sample[\"var_0001\"], color=\"tab:blue\",  s=3.0, label=\"outlier points\")"
   ]
  },
  {
   "cell_type": "code",
   "execution_count": null,
   "id": "ae5f6e0e-85d6-4f37-ba12-f0b47c1fe4af",
   "metadata": {},
   "outputs": [],
   "source": []
  },
  {
   "cell_type": "code",
   "execution_count": null,
   "id": "f5e8a441-b096-4743-8dd6-0bab477d71ba",
   "metadata": {},
   "outputs": [],
   "source": []
  },
  {
   "cell_type": "code",
   "execution_count": null,
   "id": "5ca0758b-2bbd-432e-9996-574ffadd8d8b",
   "metadata": {},
   "outputs": [],
   "source": []
  },
  {
   "cell_type": "code",
   "execution_count": null,
   "id": "052bb4fc-fadd-4341-96fc-6df084323f85",
   "metadata": {},
   "outputs": [],
   "source": []
  },
  {
   "cell_type": "code",
   "execution_count": null,
   "id": "62c8c604-f9b3-473b-9f0a-1480dca07502",
   "metadata": {},
   "outputs": [],
   "source": []
  },
  {
   "cell_type": "code",
   "execution_count": null,
   "id": "2d722928-8019-4e45-80db-6b88950f5ca0",
   "metadata": {},
   "outputs": [],
   "source": []
  },
  {
   "cell_type": "code",
   "execution_count": null,
   "id": "2ed5ff1b-e1f8-41ff-b236-e035f9d39824",
   "metadata": {},
   "outputs": [],
   "source": []
  }
 ],
 "metadata": {
  "kernelspec": {
   "display_name": "Python 3 (ipykernel)",
   "language": "python",
   "name": "python3"
  },
  "language_info": {
   "codemirror_mode": {
    "name": "ipython",
    "version": 3
   },
   "file_extension": ".py",
   "mimetype": "text/x-python",
   "name": "python",
   "nbconvert_exporter": "python",
   "pygments_lexer": "ipython3",
   "version": "3.11.2"
  }
 },
 "nbformat": 4,
 "nbformat_minor": 5
}
