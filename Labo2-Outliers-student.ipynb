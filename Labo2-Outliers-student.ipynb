{
 "cells": [
  {
   "cell_type": "markdown",
   "id": "b14d63dd-70ab-4df6-ae85-ba298d0a61bc",
   "metadata": {},
   "source": [
    "# Cours PCD – Labo 2 : Détection de données aberrantes (outliers)"
   ]
  },
  {
   "cell_type": "markdown",
   "id": "da3a3cd7",
   "metadata": {},
   "source": [
    "Dans le cadre de ce laboratoire il nous a été demandé de trouver les données atypiques (ou aberrantes) dans plusieurs jeux de données en appliquant la méthode LOF.  Ces jeux de données sont disponibles en ligne et comportent une annotation des données atypiques.  Cette annotation va nous permettre d’évaluer la méthode LOF en calculant son score F1, avec divers paramètres, sur chaque jeu."
   ]
  },
  {
   "cell_type": "code",
   "execution_count": null,
   "id": "50fc3257",
   "metadata": {},
   "outputs": [],
   "source": []
  }
 ],
 "metadata": {
  "kernelspec": {
   "display_name": "Python 3 (ipykernel)",
   "language": "python",
   "name": "python3"
  },
  "language_info": {
   "codemirror_mode": {
    "name": "ipython",
    "version": 3
   },
   "file_extension": ".py",
   "mimetype": "text/x-python",
   "name": "python",
   "nbconvert_exporter": "python",
   "pygments_lexer": "ipython3",
   "version": "3.9.7"
  }
 },
 "nbformat": 4,
 "nbformat_minor": 5
}
